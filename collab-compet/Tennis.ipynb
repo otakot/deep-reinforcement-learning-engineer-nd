{
 "cells": [
  {
   "cell_type": "markdown",
   "metadata": {},
   "source": [
    "### 1. Initialize project environemnt and create an agent"
   ]
  },
  {
   "cell_type": "code",
   "execution_count": 1,
   "metadata": {},
   "outputs": [
    {
     "name": "stderr",
     "output_type": "stream",
     "text": [
      "INFO:unityagents:\n",
      "'Academy' started successfully!\n",
      "Unity Academy name: Academy\n",
      "        Number of Brains: 1\n",
      "        Number of External Brains : 1\n",
      "        Lesson number : 0\n",
      "        Reset Parameters :\n",
      "\t\t\n",
      "Unity brain name: TennisBrain\n",
      "        Number of Visual Observations (per agent): 0\n",
      "        Vector Observation space type: continuous\n",
      "        Vector Observation space size (per agent): 8\n",
      "        Number of stacked Vector Observation: 3\n",
      "        Vector Action space type: continuous\n",
      "        Vector Action space size (per agent): 2\n",
      "        Vector Action descriptions: , \n"
     ]
    }
   ],
   "source": [
    "from unityagents import UnityEnvironment\n",
    "import numpy as np\n",
    "\n",
    "env = UnityEnvironment(file_name='Tennis.app')"
   ]
  },
  {
   "cell_type": "markdown",
   "metadata": {},
   "source": [
    "Environments contain **_brains_** which are responsible for deciding the actions of their associated agents. Here we check for the first brain available, and set it as the default brain we will be controlling from Python."
   ]
  },
  {
   "cell_type": "code",
   "execution_count": 2,
   "metadata": {},
   "outputs": [],
   "source": [
    "# get the default brain\n",
    "brain_name = env.brain_names[0]\n",
    "brain = env.brains[brain_name]"
   ]
  },
  {
   "cell_type": "markdown",
   "metadata": {},
   "source": [
    "In this environment, two agents control rackets to bounce a ball over a net. Thust he observation space consists of 8 variables corresponding to the position and velocity of the ball and racket. Two continuous actions are available, corresponding to movement toward (or away from) the net, and jumping."
   ]
  },
  {
   "cell_type": "code",
   "execution_count": 3,
   "metadata": {},
   "outputs": [
    {
     "name": "stdout",
     "output_type": "stream",
     "text": [
      "Number of agents: 2\n",
      "Size of each action: 2\n",
      "There are 2 agents. Each observes a state with length: 24\n",
      "The state for the first agent: [ 0.          0.          0.          0.          0.          0.\n",
      "  0.          0.          0.          0.          0.          0.\n",
      "  0.          0.          0.          0.         -6.65278625 -1.5\n",
      " -0.          0.          6.83172083  6.         -0.          0.        ]\n"
     ]
    }
   ],
   "source": [
    "# reset the environment\n",
    "env_info = env.reset(train_mode=True)[brain_name]\n",
    "\n",
    "# number of agents\n",
    "num_agents = len(env_info.agents)\n",
    "print('Number of agents:', num_agents)\n",
    "\n",
    "# size of each action\n",
    "action_size = brain.vector_action_space_size\n",
    "print('Size of each action:', action_size)\n",
    "\n",
    "# examine the state space\n",
    "states = env_info.vector_observations\n",
    "state_size = states.shape[1]\n",
    "print('There are {} agents. Each observes a state with length: {}'.format(states.shape[0], state_size))\n",
    "print('The state for the first agent:', states[0])"
   ]
  },
  {
   "cell_type": "code",
   "execution_count": 4,
   "metadata": {},
   "outputs": [],
   "source": [
    "import torch\n",
    "from hyperparams  import *\n",
    "from maddpg import Maddpg\n",
    "\n",
    "agent = Maddpg(state_size, action_size, num_agents)"
   ]
  },
  {
   "cell_type": "markdown",
   "metadata": {},
   "source": [
    "### 2. Train the agent and store trained model weights into checkpoint.pth file.\n",
    "\n",
    "FYI: Instead of training the agent from sracth to run in project environment, it is possible to load the stored model weights of already trained agent from please skip steps 2 and 3 and jump directly to step 4."
   ]
  },
  {
   "cell_type": "code",
   "execution_count": 5,
   "metadata": {},
   "outputs": [
    {
     "name": "stdout",
     "output_type": "stream",
     "text": [
      "Episode 50 score: 0.00, Average score over last 50 episodes: 0.00\n",
      "Episode 100 score: 0.00, Average score over last 100 episodes: 0.01\n",
      "Episode 150 score: 0.00, Average score over last 100 episodes: 0.00\n",
      "Episode 200 score: 0.00, Average score over last 100 episodes: 0.00\n",
      "Episode 250 score: 0.00, Average score over last 100 episodes: 0.00\n",
      "Episode 300 score: 0.00, Average score over last 100 episodes: 0.01\n",
      "Episode 350 score: 0.00, Average score over last 100 episodes: 0.01\n",
      "Episode 400 score: 0.00, Average score over last 100 episodes: 0.01\n",
      "Episode 450 score: 0.00, Average score over last 100 episodes: 0.02\n",
      "Episode 500 score: 0.00, Average score over last 100 episodes: 0.02\n",
      "Episode 550 score: 0.00, Average score over last 100 episodes: 0.03\n",
      "Episode 600 score: 0.00, Average score over last 100 episodes: 0.03\n",
      "Episode 650 score: 0.00, Average score over last 100 episodes: 0.04\n",
      "Episode 700 score: 0.00, Average score over last 100 episodes: 0.04\n",
      "Episode 750 score: 0.00, Average score over last 100 episodes: 0.03\n",
      "Episode 800 score: 0.00, Average score over last 100 episodes: 0.05\n",
      "Episode 850 score: 0.09, Average score over last 100 episodes: 0.06\n",
      "Episode 900 score: 0.10, Average score over last 100 episodes: 0.06\n",
      "Episode 950 score: 0.10, Average score over last 100 episodes: 0.07\n",
      "Episode 1000 score: 0.00, Average score over last 100 episodes: 0.07\n",
      "Episode 1050 score: 0.00, Average score over last 100 episodes: 0.07\n",
      "Episode 1100 score: 0.09, Average score over last 100 episodes: 0.07\n",
      "Episode 1150 score: 0.10, Average score over last 100 episodes: 0.09\n",
      "Episode 1200 score: 0.10, Average score over last 100 episodes: 0.12\n",
      "Episode 1250 score: 0.00, Average score over last 100 episodes: 0.12\n",
      "Episode 1300 score: 0.10, Average score over last 100 episodes: 0.07\n",
      "Episode 1350 score: 0.10, Average score over last 100 episodes: 0.09\n",
      "Episode 1400 score: 1.40, Average score over last 100 episodes: 0.19\n",
      "Episode 1450 score: 0.50, Average score over last 100 episodes: 0.25\n",
      "Episode 1500 score: 0.40, Average score over last 100 episodes: 0.31\n",
      "Episode 1550 score: 0.60, Average score over last 100 episodes: 0.39\n",
      "Episode 1600 score: 0.10, Average score over last 100 episodes: 0.44\n",
      "Episode 1650 score: 0.29, Average score over last 100 episodes: 0.41\n",
      "Episode 1700 score: 0.40, Average score over last 100 episodes: 0.33\n",
      "Episode 1750 score: 1.20, Average score over last 100 episodes: 0.34\n",
      "Episode 1800 score: 0.70, Average score over last 100 episodes: 0.42\n",
      "Episode 1847 score: 2.60, Average score over last 100 episodes: 0.51\n",
      "Environment solved in 1847 episodes!\t Average score over last 100 episodes: 0.51\n"
     ]
    }
   ],
   "source": [
    "from collections import deque\n",
    "\n",
    "def maddpg(n_episodes=5000, max_t=10000, print_every=50):\n",
    "    scores_deque = deque(maxlen=100)\n",
    "    scores = []\n",
    "    avg_scores = []\n",
    "    for i_episode in range(1, n_episodes+1):\n",
    "        env_info = env.reset(train_mode=True)[brain_name]\n",
    "        states = env_info.vector_observations\n",
    "        agent.reset()\n",
    "        agent_scores = np.zeros(num_agents) # storage for this episode scores for both agaents\n",
    "        for t in range(max_t):\n",
    "            actions=agent.act(states)\n",
    "            env_info = env.step(actions)[brain_name]           # send all actions to the environment\n",
    "            next_states = env_info.vector_observations         # get next state (for each agent)\n",
    "            rewards = env_info.rewards                         # get reward (for each agent)\n",
    "            dones = env_info.local_done                        # see if episode finished\n",
    "            agent_scores+= env_info.rewards                         # update the score (for each agent)\n",
    "            agent.step(states, actions, rewards,next_states, dones)\n",
    "            states = next_states\n",
    "            if np.any(dones):                                  # exit loop if episode finished\n",
    "                break\n",
    "\n",
    "        episode_score = np.max(agent_scores)  # Consider the maximum score amongs all Agents\n",
    "        scores_deque.append(episode_score)\n",
    "        scores.append(episode_score)\n",
    "        eval_window_avg_score = np.mean(scores_deque)\n",
    "        avg_scores.append(eval_window_avg_score)\n",
    "        total_episodes = min(i_episode , 100)\n",
    "        print('\\rEpisode {} score: {:.2f}, Average score over last {} episodes: {:.2f}'.format(i_episode, episode_score, total_episodes, eval_window_avg_score), end=\"\")\n",
    "        if i_episode % print_every == 0:\n",
    "            print('\\rEpisode {} score: {:.2f}, Average score over last {} episodes: {:.2f}'.format(i_episode, episode_score, total_episodes, eval_window_avg_score))\n",
    "        if eval_window_avg_score >= 0.5:\n",
    "            print('\\nEnvironment solved in {:d} episodes!\\t Average score over last {} episodes: {:.2f}'.format(i_episode, total_episodes, eval_window_avg_score))\n",
    "            agent.save_weights()\n",
    "            break\n",
    "    return scores, avg_scores\n",
    "\n",
    "scores, avg_scores = maddpg()"
   ]
  },
  {
   "cell_type": "markdown",
   "metadata": {},
   "source": [
    "### 3. Visualize results of agent's training"
   ]
  },
  {
   "cell_type": "code",
   "execution_count": 6,
   "metadata": {},
   "outputs": [
    {
     "data": {
      "image/png": "[encoded data removed]",
      "text/plain": [
       "<Figure size 864x504 with 1 Axes>"
      ]
     },
     "metadata": {
      "needs_background": "light"
     },
     "output_type": "display_data"
    }
   ],
   "source": [
    "import matplotlib.pyplot as plt\n",
    "%matplotlib inline\n",
    "## Plot the scores\n",
    "fig = plt.figure(figsize=(12,7))\n",
    "\n",
    "ax = fig.add_subplot(111)\n",
    "plt.plot(np.arange(len(scores)), scores)\n",
    "plt.plot(np.arange(len(avg_scores)), avg_scores)\n",
    "plt.ylabel('Score')\n",
    "plt.xlabel('Episode #')\n",
    "plt.legend(('Episode score (max over agents\\' scores for episode)', 'Average score over last 100 episodes'))\n",
    "\n",
    "plt.show()"
   ]
  },
  {
   "cell_type": "markdown",
   "metadata": {},
   "source": [
    "### 4. Run the Agents with pretrained model weights\n",
    "\n",
    "Once this cell is executed, a Unity window with loaded project environemnt should pop up where the trained Agents can be observed in action, as they operate inside the environment. The 'experience' of the Agents is loaded from stored ''checkpoint_actor.pth' file. These files contains the weights of Agents' neural netowrk model learned during training phase, therefore no need to train the Agents every time from scratch."
   ]
  },
  {
   "cell_type": "code",
   "execution_count": 5,
   "metadata": {},
   "outputs": [],
   "source": [
    "env_info = env.reset(train_mode=False)[brain_name]     # reset the environment    \n",
    "states = env_info.vector_observations                    # get the current states\n",
    "agent.reset()\n",
    "agent.load_weights()\n",
    "while True:\n",
    "    actions = agent.act(states)            # let the agent select actions (don't add noise)\n",
    "    env_info = env.step(actions)[brain_name]      # execute the selected actions and save the new information about the environment\n",
    "    next_states = env_info.vector_observations    # get the resulting states\n",
    "    dones = env_info.local_done                   # check whether episodes have finished\n",
    "    states = next_states\n",
    "    if np.any(dones):\n",
    "        break \n",
    "env.close()"
   ]
  }
 ],
 "metadata": {
  "interpreter": {
   "hash": "7042e7523171f2a1e37a031fc61f6d1b03fe8cfad426cc0438c624b42620eab4"
  },
  "kernelspec": {
   "display_name": "Python 3.6.13 64-bit ('drlnd': conda)",
   "name": "python3"
  },
  "language_info": {
   "codemirror_mode": {
    "name": "ipython",
    "version": 3
   },
   "file_extension": ".py",
   "mimetype": "text/x-python",
   "name": "python",
   "nbconvert_exporter": "python",
   "pygments_lexer": "ipython3",
   "version": "3.6.13"
  }
 },
 "nbformat": 4,
 "nbformat_minor": 2
}
